{
 "cells": [
  {
   "cell_type": "code",
   "execution_count": 100,
   "metadata": {
    "collapsed": true
   },
   "outputs": [],
   "source": [
    "%matplotlib inline\n",
    "from matplotlib import style\n",
    "style.use('fivethirtyeight')\n",
    "import matplotlib.pyplot as plt\n",
    "import matplotlib.mlab as mlab"
   ]
  },
  {
   "cell_type": "code",
   "execution_count": 101,
   "metadata": {
    "collapsed": true
   },
   "outputs": [],
   "source": [
    "import numpy as np\n",
    "import pandas as pd\n",
    "import sqlite3\n",
    "import datetime as dt"
   ]
  },
  {
   "cell_type": "markdown",
   "metadata": {},
   "source": [
    "### Connect to the Hawaii Database"
   ]
  },
  {
   "cell_type": "code",
   "execution_count": 102,
   "metadata": {
    "collapsed": true
   },
   "outputs": [],
   "source": [
    "#connect\n",
    "conn = sqlite3.connect(\"Resources/hawaii.sqlite\")"
   ]
  },
  {
   "cell_type": "code",
   "execution_count": 103,
   "metadata": {},
   "outputs": [],
   "source": [
    "#obtain a cursor - something to loop through via database connection\n",
    "cur = conn.cursor()"
   ]
  },
  {
   "cell_type": "code",
   "execution_count": 104,
   "metadata": {},
   "outputs": [
    {
     "name": "stdout",
     "output_type": "stream",
     "text": [
      "('measurement',)\n",
      "('station',)\n"
     ]
    }
   ],
   "source": [
    "cur.execute(\"SELECT name FROM sqlite_master WHERE type='table'\")\n",
    "#obtain data from cursor via loop - in this case - table names in database file\n",
    "rows = cur.fetchall()\n",
    " \n",
    "for row in rows:\n",
    "    print(row)"
   ]
  },
  {
   "cell_type": "code",
   "execution_count": 105,
   "metadata": {},
   "outputs": [
    {
     "name": "stdout",
     "output_type": "stream",
     "text": [
      "('CREATE TABLE measurement (\\n\\tid INTEGER NOT NULL, \\n\\tstation TEXT, \\n\\tdate TEXT, \\n\\tprcp FLOAT, \\n\\ttobs FLOAT, \\n\\tPRIMARY KEY (id)\\n)',)\n"
     ]
    }
   ],
   "source": [
    "#obtain details of the schema/table format from table named measurement\n",
    "cur.execute(\"SELECT sql FROM sqlite_master WHERE name='measurement'\")\n",
    "rows = cur.fetchall()\n",
    " \n",
    "for row in rows:\n",
    "    print(row)"
   ]
  },
  {
   "cell_type": "code",
   "execution_count": 106,
   "metadata": {},
   "outputs": [
    {
     "name": "stdout",
     "output_type": "stream",
     "text": [
      "('CREATE TABLE station (\\n\\tid INTEGER NOT NULL, \\n\\tstation TEXT, \\n\\tname TEXT, \\n\\tlatitude FLOAT, \\n\\tlongitude FLOAT, \\n\\televation FLOAT, \\n\\tPRIMARY KEY (id)\\n)',)\n"
     ]
    }
   ],
   "source": [
    "#obtain details of the schema/table format from table named station\n",
    "cur.execute(\"SELECT sql FROM sqlite_master WHERE name='station'\")\n",
    "rows = cur.fetchall()\n",
    " \n",
    "for row in rows:\n",
    "    print(row)"
   ]
  },
  {
   "cell_type": "markdown",
   "metadata": {},
   "source": [
    "### Review the Data in the Measurement and Station tables"
   ]
  },
  {
   "cell_type": "code",
   "execution_count": 107,
   "metadata": {},
   "outputs": [
    {
     "name": "stdout",
     "output_type": "stream",
     "text": [
      "(0, 'id', 'INTEGER', 1, None, 1)\n",
      "(1, 'station', 'TEXT', 0, None, 0)\n",
      "(2, 'date', 'TEXT', 0, None, 0)\n",
      "(3, 'prcp', 'FLOAT', 0, None, 0)\n",
      "(4, 'tobs', 'FLOAT', 0, None, 0)\n"
     ]
    }
   ],
   "source": [
    "#view the list of columns in the measurement table\n",
    "cur.execute(\"PRAGMA table_info(measurement)\")\n",
    "rows =  cur.fetchall()\n",
    "\n",
    "for row in rows:\n",
    "    print(row)"
   ]
  },
  {
   "cell_type": "code",
   "execution_count": 108,
   "metadata": {},
   "outputs": [
    {
     "name": "stdout",
     "output_type": "stream",
     "text": [
      "(1, 'USC00519397', '2010-01-01', 0.08, 65.0)\n",
      "(2, 'USC00519397', '2010-01-02', 0.0, 63.0)\n",
      "(3, 'USC00519397', '2010-01-03', 0.0, 74.0)\n",
      "(4, 'USC00519397', '2010-01-04', 0.0, 76.0)\n",
      "(5, 'USC00519397', '2010-01-06', None, 73.0)\n",
      "(6, 'USC00519397', '2010-01-07', 0.06, 70.0)\n",
      "(7, 'USC00519397', '2010-01-08', 0.0, 64.0)\n",
      "(8, 'USC00519397', '2010-01-09', 0.0, 68.0)\n",
      "(9, 'USC00519397', '2010-01-10', 0.0, 73.0)\n",
      "(10, 'USC00519397', '2010-01-11', 0.01, 64.0)\n"
     ]
    }
   ],
   "source": [
    "#view\n",
    "cur.execute(\"SELECT * from measurement limit 10\")\n",
    "rows = cur.fetchall()\n",
    " \n",
    "for row in rows:\n",
    "    print(row)"
   ]
  },
  {
   "cell_type": "code",
   "execution_count": 109,
   "metadata": {},
   "outputs": [
    {
     "name": "stdout",
     "output_type": "stream",
     "text": [
      "(0, 'id', 'INTEGER', 1, None, 1)\n",
      "(1, 'station', 'TEXT', 0, None, 0)\n",
      "(2, 'name', 'TEXT', 0, None, 0)\n",
      "(3, 'latitude', 'FLOAT', 0, None, 0)\n",
      "(4, 'longitude', 'FLOAT', 0, None, 0)\n",
      "(5, 'elevation', 'FLOAT', 0, None, 0)\n"
     ]
    }
   ],
   "source": [
    "#view the list of columns in the station table\n",
    "cur.execute(\"PRAGMA table_info(station)\")\n",
    "rows =  cur.fetchall()\n",
    "\n",
    "for row in rows:\n",
    "    print(row)"
   ]
  },
  {
   "cell_type": "code",
   "execution_count": 110,
   "metadata": {},
   "outputs": [
    {
     "name": "stdout",
     "output_type": "stream",
     "text": [
      "(1, 'USC00519397', 'WAIKIKI 717.2, HI US', 21.2716, -157.8168, 3.0)\n",
      "(2, 'USC00513117', 'KANEOHE 838.1, HI US', 21.4234, -157.8015, 14.6)\n",
      "(3, 'USC00514830', 'KUALOA RANCH HEADQUARTERS 886.9, HI US', 21.5213, -157.8374, 7.0)\n",
      "(4, 'USC00517948', 'PEARL CITY, HI US', 21.3934, -157.9751, 11.9)\n",
      "(5, 'USC00518838', 'UPPER WAHIAWA 874.3, HI US', 21.4992, -158.0111, 306.6)\n",
      "(6, 'USC00519523', 'WAIMANALO EXPERIMENTAL FARM, HI US', 21.33556, -157.71139, 19.5)\n",
      "(7, 'USC00519281', 'WAIHEE 837.5, HI US', 21.45167, -157.84888999999998, 32.9)\n",
      "(8, 'USC00511918', 'HONOLULU OBSERVATORY 702.2, HI US', 21.3152, -157.9992, 0.9)\n",
      "(9, 'USC00516128', 'MANOA LYON ARBO 785.2, HI US', 21.3331, -157.8025, 152.4)\n"
     ]
    }
   ],
   "source": [
    "#view\n",
    "cur.execute(\"SELECT * from station limit 10\")\n",
    "rows = cur.fetchall()\n",
    " \n",
    "for row in rows:\n",
    "    print(row)"
   ]
  },
  {
   "cell_type": "code",
   "execution_count": 111,
   "metadata": {},
   "outputs": [
    {
     "name": "stdout",
     "output_type": "stream",
     "text": [
      "(19550,)\n"
     ]
    }
   ],
   "source": [
    "#view total records\n",
    "cur.execute(\"SELECT count(*) from measurement\")\n",
    "rows = cur.fetchall()\n",
    " \n",
    "for row in rows:\n",
    "    print(row)\n",
    "    \n",
    "#  measurement has 19,500 records\n",
    "# station has 9 records"
   ]
  },
  {
   "cell_type": "code",
   "execution_count": 112,
   "metadata": {},
   "outputs": [
    {
     "name": "stdout",
     "output_type": "stream",
     "text": [
      "(9,)\n"
     ]
    }
   ],
   "source": [
    "#view total records\n",
    "cur.execute(\"SELECT count(*) from station\")\n",
    "rows = cur.fetchall()\n",
    " \n",
    "for row in rows:\n",
    "    print(row)\n",
    "    \n",
    "#  measurement has 19,500 records\n",
    "# station has 9 records"
   ]
  },
  {
   "cell_type": "markdown",
   "metadata": {},
   "source": [
    "## Step 1\n",
    "### Section A - Precipitation Analysis\n",
    "<BR>A1:  Design a query to retrieve the last 12 months of precipitation data.\n",
    "<BR>A2:  Select only the date and prcp values.\n",
    "<BR>A3:  Load the query results into a Pandas DataFrame and set the index to the date column.\n",
    "<BR>A4:   Sort the DataFrame values by date.\n",
    "<BR>A5:  Plot the results using the DataFrame plot method.\n",
    "<BR>A6:  Use Pandas to print the summary statistics for the precipitation data."
   ]
  },
  {
   "cell_type": "code",
   "execution_count": 113,
   "metadata": {},
   "outputs": [
    {
     "name": "stdout",
     "output_type": "stream",
     "text": [
      "('2017-08-23',)\n"
     ]
    }
   ],
   "source": [
    "#find the latest date in measurement\n",
    "\n",
    "cur.execute(\"SELECT max(date) as maxDate from measurement\")\n",
    "rows = cur.fetchall()\n",
    " \n",
    "for row in rows:\n",
    "    maxDate = row[0]  # without this, the variable will NOT be saved for later use\n",
    "    print(row)\n",
    "    \n",
    "#returns 2017-08-23"
   ]
  },
  {
   "cell_type": "code",
   "execution_count": 177,
   "metadata": {},
   "outputs": [
    {
     "name": "stdout",
     "output_type": "stream",
     "text": [
      "2017-08-23 00:00:00\n"
     ]
    }
   ],
   "source": [
    "print(maxDate)"
   ]
  },
  {
   "cell_type": "code",
   "execution_count": 178,
   "metadata": {},
   "outputs": [
    {
     "data": {
      "text/plain": [
       "datetime.datetime"
      ]
     },
     "execution_count": 178,
     "metadata": {},
     "output_type": "execute_result"
    }
   ],
   "source": [
    "type(maxDate)"
   ]
  },
  {
   "cell_type": "code",
   "execution_count": 195,
   "metadata": {},
   "outputs": [
    {
     "name": "stdout",
     "output_type": "stream",
     "text": [
      "maxDate type: <class 'datetime.datetime'>\n"
     ]
    }
   ],
   "source": [
    "print(\"maxDate type: \"+ str(type(maxDate)))"
   ]
  },
  {
   "cell_type": "code",
   "execution_count": 179,
   "metadata": {},
   "outputs": [],
   "source": [
    "#convert to a string\n",
    "maxDate_s = str(maxDate)"
   ]
  },
  {
   "cell_type": "code",
   "execution_count": 180,
   "metadata": {},
   "outputs": [
    {
     "data": {
      "text/plain": [
       "str"
      ]
     },
     "execution_count": 180,
     "metadata": {},
     "output_type": "execute_result"
    }
   ],
   "source": [
    "type(maxDate_s)"
   ]
  },
  {
   "cell_type": "code",
   "execution_count": 186,
   "metadata": {},
   "outputs": [
    {
     "name": "stdout",
     "output_type": "stream",
     "text": [
      "maxDate type: <class 'str'>\n"
     ]
    }
   ],
   "source": [
    "print(\"maxDate type: \"+ str(type(maxDate_s)))\n"
   ]
  },
  {
   "cell_type": "markdown",
   "metadata": {},
   "source": []
  },
  {
   "cell_type": "code",
   "execution_count": 181,
   "metadata": {},
   "outputs": [
    {
     "ename": "TypeError",
     "evalue": "strptime() argument 1 must be str, not datetime.datetime",
     "output_type": "error",
     "traceback": [
      "\u001b[1;31m---------------------------------------------------------------------------\u001b[0m",
      "\u001b[1;31mTypeError\u001b[0m                                 Traceback (most recent call last)",
      "\u001b[1;32m<ipython-input-181-275dd477f2ba>\u001b[0m in \u001b[0;36m<module>\u001b[1;34m\u001b[0m\n\u001b[1;32m----> 1\u001b[1;33m \u001b[0mmaxDate\u001b[0m \u001b[1;33m=\u001b[0m \u001b[0mdt\u001b[0m\u001b[1;33m.\u001b[0m\u001b[0mdatetime\u001b[0m\u001b[1;33m.\u001b[0m\u001b[0mstrptime\u001b[0m\u001b[1;33m(\u001b[0m\u001b[0mmaxDate\u001b[0m\u001b[1;33m,\u001b[0m \u001b[1;34m'%Y-%m-%d'\u001b[0m\u001b[1;33m)\u001b[0m\u001b[1;33m\u001b[0m\u001b[1;33m\u001b[0m\u001b[0m\n\u001b[0m\u001b[0;32m      2\u001b[0m \u001b[0mprev_year\u001b[0m \u001b[1;33m=\u001b[0m \u001b[0mmaxDate\u001b[0m \u001b[1;33m-\u001b[0m \u001b[0mdt\u001b[0m\u001b[1;33m.\u001b[0m\u001b[0mtimedelta\u001b[0m\u001b[1;33m(\u001b[0m\u001b[0mdays\u001b[0m\u001b[1;33m=\u001b[0m\u001b[1;36m365\u001b[0m\u001b[1;33m)\u001b[0m\u001b[1;33m\u001b[0m\u001b[1;33m\u001b[0m\u001b[0m\n\u001b[0;32m      3\u001b[0m \u001b[0mprev_year\u001b[0m\u001b[1;33m\u001b[0m\u001b[1;33m\u001b[0m\u001b[0m\n",
      "\u001b[1;31mTypeError\u001b[0m: strptime() argument 1 must be str, not datetime.datetime"
     ]
    }
   ],
   "source": [
    "maxDate = dt.datetime.strptime(maxDate, '%Y-%m-%d')\n",
    "prev_year = maxDate - dt.timedelta(days=365)\n",
    "prev_year"
   ]
  },
  {
   "cell_type": "code",
   "execution_count": 119,
   "metadata": {},
   "outputs": [
    {
     "name": "stdout",
     "output_type": "stream",
     "text": [
      "2016-08-23 00:00:00\n"
     ]
    }
   ],
   "source": [
    "print(prev_year)"
   ]
  },
  {
   "cell_type": "code",
   "execution_count": 120,
   "metadata": {},
   "outputs": [],
   "source": [
    "# need to convert the prev_year to a string\n",
    "prevYear_s = str(prev_year)"
   ]
  },
  {
   "cell_type": "code",
   "execution_count": 121,
   "metadata": {},
   "outputs": [
    {
     "data": {
      "text/plain": [
       "str"
      ]
     },
     "execution_count": 121,
     "metadata": {},
     "output_type": "execute_result"
    }
   ],
   "source": [
    "type(prevYear_s)"
   ]
  },
  {
   "cell_type": "code",
   "execution_count": 122,
   "metadata": {},
   "outputs": [
    {
     "name": "stdout",
     "output_type": "stream",
     "text": [
      "(2724, 'USC00519397', '2017-08-23', 0.0, 81.0)\n",
      "(7635, 'USC00514830', '2017-08-23', 0.0, 82.0)\n",
      "(12187, 'USC00519523', '2017-08-23', 0.08, 82.0)\n",
      "(19550, 'USC00516128', '2017-08-23', 0.45, 76.0)\n",
      "(2723, 'USC00519397', '2017-08-22', 0.0, 82.0)\n",
      "(12186, 'USC00519523', '2017-08-22', 0.0, 82.0)\n",
      "(19549, 'USC00516128', '2017-08-22', 0.5, 76.0)\n",
      "(2722, 'USC00519397', '2017-08-21', 0.0, 81.0)\n",
      "(7634, 'USC00514830', '2017-08-21', 0.02, 79.0)\n",
      "(12185, 'USC00519523', '2017-08-21', None, 82.0)\n",
      "(19548, 'USC00516128', '2017-08-21', 0.56, 76.0)\n",
      "(2721, 'USC00519397', '2017-08-20', 0.0, 81.0)\n",
      "(7633, 'USC00514830', '2017-08-20', 0.01, 80.0)\n",
      "(19547, 'USC00516128', '2017-08-20', None, 78.0)\n",
      "(2720, 'USC00519397', '2017-08-19', 0.0, 79.0)\n",
      "(7632, 'USC00514830', '2017-08-19', 0.0, 80.0)\n",
      "(12184, 'USC00519523', '2017-08-19', None, 85.0)\n",
      "(19546, 'USC00516128', '2017-08-19', 0.09, 71.0)\n",
      "(2719, 'USC00519397', '2017-08-18', 0.0, 80.0)\n",
      "(7631, 'USC00514830', '2017-08-18', 0.0, 77.0)\n"
     ]
    }
   ],
   "source": [
    "cur.execute(\"SELECT * from measurement order by date desc limit 20\")\n",
    "rows = cur.fetchall()\n",
    " \n",
    "for row in rows:\n",
    "    print(row)"
   ]
  },
  {
   "cell_type": "code",
   "execution_count": 123,
   "metadata": {},
   "outputs": [],
   "source": [
    "startDate = dt.datetime(2017, 8, 19, 0, 0)\n",
    "endDate = dt.datetime(2017, 8, 22, 0, 0)"
   ]
  },
  {
   "cell_type": "code",
   "execution_count": 124,
   "metadata": {},
   "outputs": [
    {
     "name": "stdout",
     "output_type": "stream",
     "text": [
      "The startDate is 2017-08-19 00:00:00and the endDate is 2017-08-22 00:00:00\n"
     ]
    }
   ],
   "source": [
    "print(\"The startDate is \" + str(startDate) + \"and the endDate is \" + str(endDate))"
   ]
  },
  {
   "cell_type": "code",
   "execution_count": 125,
   "metadata": {},
   "outputs": [],
   "source": [
    "#convert the startDate to a string\n",
    "startS = str(startDate)"
   ]
  },
  {
   "cell_type": "code",
   "execution_count": 126,
   "metadata": {},
   "outputs": [
    {
     "data": {
      "text/plain": [
       "str"
      ]
     },
     "execution_count": 126,
     "metadata": {},
     "output_type": "execute_result"
    }
   ],
   "source": [
    "type(startS)"
   ]
  },
  {
   "cell_type": "code",
   "execution_count": 127,
   "metadata": {},
   "outputs": [],
   "source": [
    "endS = str(endDate)"
   ]
  },
  {
   "cell_type": "code",
   "execution_count": 128,
   "metadata": {},
   "outputs": [
    {
     "data": {
      "text/plain": [
       "datetime.datetime"
      ]
     },
     "execution_count": 128,
     "metadata": {},
     "output_type": "execute_result"
    }
   ],
   "source": [
    "type(startDate)"
   ]
  },
  {
   "cell_type": "code",
   "execution_count": 196,
   "metadata": {},
   "outputs": [],
   "source": [
    "#before answering the question, determine if simple variables work\n",
    "#create startDate and endDate to test output\n",
    "#The startDate is 2017-08-19 00:00:00and the endDate is 2017-08-22 00:00:00\n",
    "\n",
    "#The first two work.  All others are things I tried.  See section C where these queries are executed\n",
    "\n",
    "#VS Code for start date only\n",
    "#cur.execute(\"SELECT * from measurement where Date(date) >= Date('\" + str(startS) + \"')\") \n",
    "\n",
    "\n",
    "#VS Code for two dates\n",
    "#cur.execute(\"SELECT min(tobs), max(tobs), avg(tobs) from measurement where Date(date) >= Date('\" + str(startS) + \"') and Date(date) <= Date('\" + str(endS) + \"')\")\n",
    "\n",
    "################# none of these work ##########################33\n",
    "# cur.execute(\"SELECT * from measurement where date >= '2017-08-19'\")  #works!  must use a date format  now try with variable\n",
    "#cur.execute(\"SELECT * from measurement where date >= '2017-08-19' and date <='2017-08-22'\")  #works!  must use a date format  now try with variable\n",
    "\n",
    "#cur.execute(\"SELECT * from measurement where date >= 2017-08-19\")   does not work - returns 2010\n",
    "#cur.execute(\"SELECT * from measurement where strftime('%s', date) >= strftime('%s', startDate)\")   #no\n",
    "#cur.execute(\"SELECT * from measurement where date >= strftime('%s', 'startDate')\")  #no error, no results\n",
    "#cur.execute(\"SELECT * from measurement where date >= strftime('startDate')\")   #no error, no results\n",
    "#cur.execute(\"SELECT * from measurement where date >= %s\" % (startDate.strftime('%m-%d-%Y'),))  #does not work, returns 2010\n",
    "#cur.execute(\"SELECT * from measurement where date >= Datetime('startDate')\")  #no error, no results\n",
    "#cur.execute(\"SELECT * FROM measurement WHERE strftime('%s', date) BETWEEN strftime('%s', 'startDate') AND strftime('%s', 'endDate')\")  #no error, no results\n",
    "#cur.execute(\"SELECT * FROM measurement WHERE Datetime('%s', date) BETWEEN Datetime('%s', 'startDate') AND Datetime('%s', 'endDate')\") #no error, no results\n",
    "\n",
    "#cur.execute(\"SELECT * FROM measurement WHERE CAST(strftime('%s', date) AS  integer) >=CAST(strftime('%s', 'startDate')  AS  integer)\")   #no error, no results\n",
    "#cur.execute(\"SELECT * FROM measurement WHERE date >= strftime('%m/%d/%Y %H:%M', datetime('startDate'))\")   #no error, no results\n",
    "\n",
    "#cur.execute(\"SELECT * from measurement where date >= 'startS'\")   #no error, no results\n",
    "#cur.execute(\"SELECT * from measurement where strftime('%s', date) >= 'startS'\")  #no error, no results\n",
    "#cur.execute(\"SELECT * from measurement where date >= strftime('%s', 'startS')\")  #no error, no results\n",
    "#cur.execute(\"SELECT * from measurement where date >= strftime('startS')\")   #no error, no results\n",
    "#cur.execute(\"SELECT * from measurement where date >= %s\" % ('startS'.strftime('%m-%d-%Y'),))  #error\n",
    "#cur.execute(\"SELECT * from measurement where date >= Datetime('startS')\")  #no error, no results\n",
    "#cur.execute(\"SELECT * FROM measurement WHERE CAST(strftime('%s', date) AS  integer) >=CAST(strftime('%s', 'startS')  AS  integer)\")   #no error, no results\n",
    "#cur.execute(\"SELECT * FROM measurement WHERE date >= strftime('%m/%d/%Y %H:%M', datetime('startS'))\")   #no error, no results\n",
    "\n",
    "rows = cur.fetchall()\n",
    "\n",
    "for row in rows:\n",
    "    print(row)"
   ]
  },
  {
   "cell_type": "code",
   "execution_count": null,
   "metadata": {
    "collapsed": true
   },
   "outputs": [],
   "source": [
    "#  A1:  Design a query to retrieve the last 12 months of precipitation data.\n",
    "#  A2:  Select only the date and prcp values.\n",
    "\n",
    "#NOTE:    last date in measurement is 2017-08-23\n",
    "#use this if the data were current:\n",
    "#cur.execute(\"SELECT * from measurement where date >= date( julianday(date('now'))-365);\")\n",
    "\n",
    "#cur.execute(\"SELECT date, prcp from measurement where date >= '2016-08-23'\")\n",
    "cur.execute(\"SELECT date, prcp from measurement where date >= Date('\" + str(prevYear_s) + \"')\")\n",
    "\n",
    "rows = cur.fetchall()\n",
    " \n",
    "for row in rows:\n",
    "    print(row)\n",
    "    "
   ]
  },
  {
   "cell_type": "code",
   "execution_count": 131,
   "metadata": {
    "collapsed": true
   },
   "outputs": [],
   "source": [
    "#A3:  Load the query results into a Pandas DataFrame and set the index to the date column.  (Index set in upcoming step)\n",
    "#A4:   Sort the DataFrame values by date.\n",
    "lastYear = pd.read_sql(\"SELECT date, prcp from measurement where date >= '2016-08-24' order by date desc, prcp asc\", conn)"
   ]
  },
  {
   "cell_type": "code",
   "execution_count": 132,
   "metadata": {},
   "outputs": [
    {
     "data": {
      "text/html": [
       "<div>\n",
       "<style scoped>\n",
       "    .dataframe tbody tr th:only-of-type {\n",
       "        vertical-align: middle;\n",
       "    }\n",
       "\n",
       "    .dataframe tbody tr th {\n",
       "        vertical-align: top;\n",
       "    }\n",
       "\n",
       "    .dataframe thead th {\n",
       "        text-align: right;\n",
       "    }\n",
       "</style>\n",
       "<table border=\"1\" class=\"dataframe\">\n",
       "  <thead>\n",
       "    <tr style=\"text-align: right;\">\n",
       "      <th></th>\n",
       "      <th>date</th>\n",
       "      <th>prcp</th>\n",
       "    </tr>\n",
       "  </thead>\n",
       "  <tbody>\n",
       "    <tr>\n",
       "      <th>0</th>\n",
       "      <td>2017-08-23</td>\n",
       "      <td>0.00</td>\n",
       "    </tr>\n",
       "    <tr>\n",
       "      <th>1</th>\n",
       "      <td>2017-08-23</td>\n",
       "      <td>0.00</td>\n",
       "    </tr>\n",
       "    <tr>\n",
       "      <th>2</th>\n",
       "      <td>2017-08-23</td>\n",
       "      <td>0.08</td>\n",
       "    </tr>\n",
       "    <tr>\n",
       "      <th>3</th>\n",
       "      <td>2017-08-23</td>\n",
       "      <td>0.45</td>\n",
       "    </tr>\n",
       "    <tr>\n",
       "      <th>4</th>\n",
       "      <td>2017-08-22</td>\n",
       "      <td>0.00</td>\n",
       "    </tr>\n",
       "    <tr>\n",
       "      <th>5</th>\n",
       "      <td>2017-08-22</td>\n",
       "      <td>0.00</td>\n",
       "    </tr>\n",
       "    <tr>\n",
       "      <th>6</th>\n",
       "      <td>2017-08-22</td>\n",
       "      <td>0.50</td>\n",
       "    </tr>\n",
       "    <tr>\n",
       "      <th>7</th>\n",
       "      <td>2017-08-21</td>\n",
       "      <td>NaN</td>\n",
       "    </tr>\n",
       "    <tr>\n",
       "      <th>8</th>\n",
       "      <td>2017-08-21</td>\n",
       "      <td>0.00</td>\n",
       "    </tr>\n",
       "    <tr>\n",
       "      <th>9</th>\n",
       "      <td>2017-08-21</td>\n",
       "      <td>0.02</td>\n",
       "    </tr>\n",
       "  </tbody>\n",
       "</table>\n",
       "</div>"
      ],
      "text/plain": [
       "         date  prcp\n",
       "0  2017-08-23  0.00\n",
       "1  2017-08-23  0.00\n",
       "2  2017-08-23  0.08\n",
       "3  2017-08-23  0.45\n",
       "4  2017-08-22  0.00\n",
       "5  2017-08-22  0.00\n",
       "6  2017-08-22  0.50\n",
       "7  2017-08-21   NaN\n",
       "8  2017-08-21  0.00\n",
       "9  2017-08-21  0.02"
      ]
     },
     "execution_count": 132,
     "metadata": {},
     "output_type": "execute_result"
    }
   ],
   "source": [
    "lastYear.head(10)"
   ]
  },
  {
   "cell_type": "code",
   "execution_count": 133,
   "metadata": {
    "collapsed": true
   },
   "outputs": [],
   "source": [
    "#A3:  .... set the index to the date column. \n",
    "#saved as a new df in case I need lastYear where the index was not changed.\n",
    "lastYear2 = lastYear.set_index('date')"
   ]
  },
  {
   "cell_type": "code",
   "execution_count": 134,
   "metadata": {},
   "outputs": [
    {
     "data": {
      "text/html": [
       "<div>\n",
       "<style scoped>\n",
       "    .dataframe tbody tr th:only-of-type {\n",
       "        vertical-align: middle;\n",
       "    }\n",
       "\n",
       "    .dataframe tbody tr th {\n",
       "        vertical-align: top;\n",
       "    }\n",
       "\n",
       "    .dataframe thead th {\n",
       "        text-align: right;\n",
       "    }\n",
       "</style>\n",
       "<table border=\"1\" class=\"dataframe\">\n",
       "  <thead>\n",
       "    <tr style=\"text-align: right;\">\n",
       "      <th></th>\n",
       "      <th>prcp</th>\n",
       "    </tr>\n",
       "    <tr>\n",
       "      <th>date</th>\n",
       "      <th></th>\n",
       "    </tr>\n",
       "  </thead>\n",
       "  <tbody>\n",
       "    <tr>\n",
       "      <th>2017-08-23</th>\n",
       "      <td>0.00</td>\n",
       "    </tr>\n",
       "    <tr>\n",
       "      <th>2017-08-23</th>\n",
       "      <td>0.00</td>\n",
       "    </tr>\n",
       "    <tr>\n",
       "      <th>2017-08-23</th>\n",
       "      <td>0.08</td>\n",
       "    </tr>\n",
       "    <tr>\n",
       "      <th>2017-08-23</th>\n",
       "      <td>0.45</td>\n",
       "    </tr>\n",
       "    <tr>\n",
       "      <th>2017-08-22</th>\n",
       "      <td>0.00</td>\n",
       "    </tr>\n",
       "  </tbody>\n",
       "</table>\n",
       "</div>"
      ],
      "text/plain": [
       "            prcp\n",
       "date            \n",
       "2017-08-23  0.00\n",
       "2017-08-23  0.00\n",
       "2017-08-23  0.08\n",
       "2017-08-23  0.45\n",
       "2017-08-22  0.00"
      ]
     },
     "execution_count": 134,
     "metadata": {},
     "output_type": "execute_result"
    }
   ],
   "source": [
    "#manual check\n",
    "lastYear2.head()"
   ]
  },
  {
   "cell_type": "code",
   "execution_count": 135,
   "metadata": {},
   "outputs": [
    {
     "data": {
      "text/plain": [
       "Text(0, 0.5, 'Precipitation (inches)')"
      ]
     },
     "execution_count": 135,
     "metadata": {},
     "output_type": "execute_result"
    },
    {
     "data": {
      "image/png": "[encoded data removed]",
      "text/plain": [
       "<Figure size 432x288 with 1 Axes>"
      ]
     },
     "metadata": {},
     "output_type": "display_data"
    }
   ],
   "source": [
    "#  A5:  Plot the results using the DataFrame plot method.\n",
    "lastYear2.plot()\n",
    "plt.title(\"Precipitation from 24Aug16 - 27Aug17\")\n",
    "plt.ylabel('Precipitation (inches)', fontsize=14)"
   ]
  },
  {
   "cell_type": "code",
   "execution_count": 136,
   "metadata": {},
   "outputs": [],
   "source": [
    "#A5:  EXTRA.  Create the graph using plot (opposed to the dataframe plot function)"
   ]
  },
  {
   "cell_type": "code",
   "execution_count": 137,
   "metadata": {},
   "outputs": [],
   "source": [
    "# Create an array that contains the number of users each language has\n",
    "precip = lastYear[\"prcp\"]\n",
    "#x_axis = np.arange(len(precip))\n",
    "x_axis = lastYear[\"date\"]"
   ]
  },
  {
   "cell_type": "code",
   "execution_count": 138,
   "metadata": {},
   "outputs": [
    {
     "data": {
      "text/plain": [
       "Text(0, 0.5, 'Precipitation (inches)')"
      ]
     },
     "execution_count": 138,
     "metadata": {},
     "output_type": "execute_result"
    },
    {
     "data": {
      "image/png": "[encoded data removed]",
      "text/plain": [
       "<Figure size 432x288 with 1 Axes>"
      ]
     },
     "metadata": {},
     "output_type": "display_data"
    }
   ],
   "source": [
    "# Tell matplotlib that we will be making a bar chart\n",
    "# Users is our y axis and x_axis is, of course, our x axis\n",
    "# We apply align=\"edge\" to ensure our bars line up with our tick marks\n",
    "plt.bar(x_axis, precip, color='g', alpha=0.5, align=\"center\")\n",
    "\n",
    "# Give our chart some labels and a tile\n",
    "plt.title(\"Precipitation from 24Aug16 - 27Aug17\")\n",
    "plt.xlabel(\"Date\")\n",
    "plt.ylabel(\"Precipitation (inches)\")"
   ]
  },
  {
   "cell_type": "code",
   "execution_count": 204,
   "metadata": {},
   "outputs": [],
   "source": [
    "#A6:  Use Pandas to print the summary statistics for the precipitation data.\n",
    "# starter notebook shows results in a dataframe\n",
    "summary = pd.DataFrame(lastYear2[\"prcp\"].describe())"
   ]
  },
  {
   "cell_type": "code",
   "execution_count": 207,
   "metadata": {},
   "outputs": [
    {
     "data": {
      "text/html": [
       "<div>\n",
       "<style scoped>\n",
       "    .dataframe tbody tr th:only-of-type {\n",
       "        vertical-align: middle;\n",
       "    }\n",
       "\n",
       "    .dataframe tbody tr th {\n",
       "        vertical-align: top;\n",
       "    }\n",
       "\n",
       "    .dataframe thead th {\n",
       "        text-align: right;\n",
       "    }\n",
       "</style>\n",
       "<table border=\"1\" class=\"dataframe\">\n",
       "  <thead>\n",
       "    <tr style=\"text-align: right;\">\n",
       "      <th></th>\n",
       "      <th>prcp</th>\n",
       "    </tr>\n",
       "  </thead>\n",
       "  <tbody>\n",
       "    <tr>\n",
       "      <th>count</th>\n",
       "      <td>2015.000000</td>\n",
       "    </tr>\n",
       "    <tr>\n",
       "      <th>mean</th>\n",
       "      <td>0.176462</td>\n",
       "    </tr>\n",
       "    <tr>\n",
       "      <th>std</th>\n",
       "      <td>0.460288</td>\n",
       "    </tr>\n",
       "    <tr>\n",
       "      <th>min</th>\n",
       "      <td>0.000000</td>\n",
       "    </tr>\n",
       "    <tr>\n",
       "      <th>25%</th>\n",
       "      <td>0.000000</td>\n",
       "    </tr>\n",
       "  </tbody>\n",
       "</table>\n",
       "</div>"
      ],
      "text/plain": [
       "              prcp\n",
       "count  2015.000000\n",
       "mean      0.176462\n",
       "std       0.460288\n",
       "min       0.000000\n",
       "25%       0.000000"
      ]
     },
     "execution_count": 207,
     "metadata": {},
     "output_type": "execute_result"
    }
   ],
   "source": [
    "summary.head()"
   ]
  },
  {
   "cell_type": "markdown",
   "metadata": {},
   "source": [
    "## Step 1\n",
    "### Section B:   Station Analysis\n",
    "B1 - Design a query to calculate the total number of stations.\n",
    "<BR>\n",
    "B2- Design a query to find the most active stations.\n",
    "<BR>\n",
    "-- B2a:  List the stations and observation counts in descending order.\n",
    "<BR>\n",
    "--  B2b:   Which station has the highest number of observations?\n",
    "<BR>Hint: You may need to use functions such as func.min, func.max, func.avg, and func.count in your queries.\n",
    "\n",
    "<BR>\n",
    "B3.  Design a query to retrieve the last 12 months of temperature observation data (tobs).\n",
    "<BR>\n",
    "--  B3a.  Filter by the station with the highest number of observations.\n",
    "--  B3b.   Plot the results as a histogram with bins=12."
   ]
  },
  {
   "cell_type": "code",
   "execution_count": 141,
   "metadata": {},
   "outputs": [
    {
     "name": "stdout",
     "output_type": "stream",
     "text": [
      "(9,)\n"
     ]
    }
   ],
   "source": [
    "#B1.   Design a query to calculate the total number of stations.\n",
    "cur.execute(\"SELECT count(distinct(station)) FROM station\")\n",
    "rows = cur.fetchall()\n",
    " \n",
    "for row in rows:\n",
    "    print(row)"
   ]
  },
  {
   "cell_type": "code",
   "execution_count": null,
   "metadata": {},
   "outputs": [],
   "source": [
    "#view all records, manual check\n",
    "cur.execute(\"SELECT * FROM measurement\")\n",
    "rows = cur.fetchall()\n",
    " \n",
    "for row in rows:\n",
    "    print(row)"
   ]
  },
  {
   "cell_type": "code",
   "execution_count": 143,
   "metadata": {},
   "outputs": [
    {
     "name": "stdout",
     "output_type": "stream",
     "text": [
      "('USC00519281', 'WAIHEE 837.5, HI US', 2772)\n",
      "('USC00519397', 'WAIKIKI 717.2, HI US', 2724)\n",
      "('USC00513117', 'KANEOHE 838.1, HI US', 2709)\n",
      "('USC00519523', 'WAIMANALO EXPERIMENTAL FARM, HI US', 2669)\n",
      "('USC00516128', 'MANOA LYON ARBO 785.2, HI US', 2612)\n",
      "('USC00514830', 'KUALOA RANCH HEADQUARTERS 886.9, HI US', 2202)\n",
      "('USC00511918', 'HONOLULU OBSERVATORY 702.2, HI US', 1979)\n",
      "('USC00517948', 'PEARL CITY, HI US', 1372)\n",
      "('USC00518838', 'UPPER WAHIAWA 874.3, HI US', 511)\n"
     ]
    }
   ],
   "source": [
    "#B2:   What are the most active stations? (i.e. what stations have the most rows)?\n",
    "#B2a: List the stations and observation counts in descending order. \n",
    "\n",
    "cur.execute(\"SELECT s.station, s.name, count(m.station) from station as s inner join measurement as m on s.station = m.station group by s.station order by count(m.station) desc\")\n",
    "rows = cur.fetchall()\n",
    " \n",
    "for row in rows:\n",
    "    print(row)\n"
   ]
  },
  {
   "cell_type": "code",
   "execution_count": 144,
   "metadata": {},
   "outputs": [
    {
     "data": {
      "text/html": [
       "<div>\n",
       "<style scoped>\n",
       "    .dataframe tbody tr th:only-of-type {\n",
       "        vertical-align: middle;\n",
       "    }\n",
       "\n",
       "    .dataframe tbody tr th {\n",
       "        vertical-align: top;\n",
       "    }\n",
       "\n",
       "    .dataframe thead th {\n",
       "        text-align: right;\n",
       "    }\n",
       "</style>\n",
       "<table border=\"1\" class=\"dataframe\">\n",
       "  <thead>\n",
       "    <tr style=\"text-align: right;\">\n",
       "      <th></th>\n",
       "      <th>stationID</th>\n",
       "      <th>stationName</th>\n",
       "      <th>activityCount</th>\n",
       "    </tr>\n",
       "  </thead>\n",
       "  <tbody>\n",
       "    <tr>\n",
       "      <th>0</th>\n",
       "      <td>USC00519281</td>\n",
       "      <td>WAIHEE 837.5, HI US</td>\n",
       "      <td>2772</td>\n",
       "    </tr>\n",
       "    <tr>\n",
       "      <th>1</th>\n",
       "      <td>USC00519397</td>\n",
       "      <td>WAIKIKI 717.2, HI US</td>\n",
       "      <td>2724</td>\n",
       "    </tr>\n",
       "    <tr>\n",
       "      <th>2</th>\n",
       "      <td>USC00513117</td>\n",
       "      <td>KANEOHE 838.1, HI US</td>\n",
       "      <td>2709</td>\n",
       "    </tr>\n",
       "    <tr>\n",
       "      <th>3</th>\n",
       "      <td>USC00519523</td>\n",
       "      <td>WAIMANALO EXPERIMENTAL FARM, HI US</td>\n",
       "      <td>2669</td>\n",
       "    </tr>\n",
       "    <tr>\n",
       "      <th>4</th>\n",
       "      <td>USC00516128</td>\n",
       "      <td>MANOA LYON ARBO 785.2, HI US</td>\n",
       "      <td>2612</td>\n",
       "    </tr>\n",
       "    <tr>\n",
       "      <th>5</th>\n",
       "      <td>USC00514830</td>\n",
       "      <td>KUALOA RANCH HEADQUARTERS 886.9, HI US</td>\n",
       "      <td>2202</td>\n",
       "    </tr>\n",
       "    <tr>\n",
       "      <th>6</th>\n",
       "      <td>USC00511918</td>\n",
       "      <td>HONOLULU OBSERVATORY 702.2, HI US</td>\n",
       "      <td>1979</td>\n",
       "    </tr>\n",
       "    <tr>\n",
       "      <th>7</th>\n",
       "      <td>USC00517948</td>\n",
       "      <td>PEARL CITY, HI US</td>\n",
       "      <td>1372</td>\n",
       "    </tr>\n",
       "    <tr>\n",
       "      <th>8</th>\n",
       "      <td>USC00518838</td>\n",
       "      <td>UPPER WAHIAWA 874.3, HI US</td>\n",
       "      <td>511</td>\n",
       "    </tr>\n",
       "  </tbody>\n",
       "</table>\n",
       "</div>"
      ],
      "text/plain": [
       "     stationID                             stationName  activityCount\n",
       "0  USC00519281                     WAIHEE 837.5, HI US           2772\n",
       "1  USC00519397                    WAIKIKI 717.2, HI US           2724\n",
       "2  USC00513117                    KANEOHE 838.1, HI US           2709\n",
       "3  USC00519523      WAIMANALO EXPERIMENTAL FARM, HI US           2669\n",
       "4  USC00516128            MANOA LYON ARBO 785.2, HI US           2612\n",
       "5  USC00514830  KUALOA RANCH HEADQUARTERS 886.9, HI US           2202\n",
       "6  USC00511918       HONOLULU OBSERVATORY 702.2, HI US           1979\n",
       "7  USC00517948                       PEARL CITY, HI US           1372\n",
       "8  USC00518838              UPPER WAHIAWA 874.3, HI US            511"
      ]
     },
     "execution_count": 144,
     "metadata": {},
     "output_type": "execute_result"
    }
   ],
   "source": [
    "#For easier viewing, create a dataframe\n",
    "stationActive = pd.read_sql(\"SELECT s.station as stationID, s.name as stationName, count(m.station) as activityCount from station as s inner join measurement as m on s.station = m.station group by s.station order by count(m.station) desc\", conn)\n",
    "stationActive.head(10)"
   ]
  },
  {
   "cell_type": "code",
   "execution_count": 145,
   "metadata": {},
   "outputs": [
    {
     "name": "stdout",
     "output_type": "stream",
     "text": [
      "('USC00519281', 'WAIHEE 837.5, HI US', 2772)\n"
     ]
    }
   ],
   "source": [
    "#B2b: Which station has the highest number of observations? \n",
    "#EXAMPLE 1:  same as query in B2a, but limit results to 1\n",
    "\n",
    "cur.execute(\"SELECT s.station, s.name, count(m.station) from station as s inner join measurement as m on s.station = m.station group by s.station order by count(m.station) desc limit 1\")\n",
    "rows = cur.fetchall()\n",
    " \n",
    "for row in rows:\n",
    "    print(row)\n"
   ]
  },
  {
   "cell_type": "code",
   "execution_count": 146,
   "metadata": {},
   "outputs": [
    {
     "data": {
      "text/plain": [
       "Index(['stationID', 'stationName', 'activityCount'], dtype='object')"
      ]
     },
     "execution_count": 146,
     "metadata": {},
     "output_type": "execute_result"
    }
   ],
   "source": [
    "stationActive.columns"
   ]
  },
  {
   "cell_type": "code",
   "execution_count": 147,
   "metadata": {},
   "outputs": [
    {
     "name": "stdout",
     "output_type": "stream",
     "text": [
      "USC00519281\n"
     ]
    }
   ],
   "source": [
    "#B2b: Which station has the highest number of observations? \n",
    "#EXAMPLE 2:  pandas - since table is sorted in descending order, choose index 0.\n",
    "#This is the station with the highest obs\n",
    "\n",
    "highObs = stationActive.iloc[0]['stationID']\n",
    "print(highObs)"
   ]
  },
  {
   "cell_type": "code",
   "execution_count": 148,
   "metadata": {},
   "outputs": [],
   "source": [
    "#B2b: Which station has the highest number of observations? \n",
    "#EXAMPLE 3:  use max function in a SQL Statement\n",
    "#note, can do this with pandas df.   Not sure how to do it in a SQL query using max function.\n",
    "\n",
    "#https://stackoverflow.com/questions/25977977/sqlite-aggregate-maxsum-error-in-android\n",
    "# https://stackoverflow.com/questions/9244378/how-to-maxcountx-in-sqlite\n",
    "# ??  not able to make this work using the max function on an aggregate of sum\n"
   ]
  },
  {
   "cell_type": "code",
   "execution_count": 149,
   "metadata": {},
   "outputs": [
    {
     "name": "stdout",
     "output_type": "stream",
     "text": [
      "('2017-08-23',)\n"
     ]
    }
   ],
   "source": [
    "#manual check.  find the most recent date\n",
    "cur.execute(\"select max(date) as maxDate from measurement\")\n",
    "rows = cur.fetchall()\n",
    " \n",
    "for row in rows:\n",
    "    print(row)"
   ]
  },
  {
   "cell_type": "code",
   "execution_count": 150,
   "metadata": {},
   "outputs": [
    {
     "name": "stdout",
     "output_type": "stream",
     "text": [
      "('2019-04-24',)\n"
     ]
    }
   ],
   "source": [
    "#Self Tutorial - \n",
    "#how to add/subtract dates to a date using sqlite\n",
    "cur.execute(\"SELECT date('now','-10 day')\")\n",
    "rows = cur.fetchall()\n",
    " \n",
    "for row in rows:\n",
    "    print(row)"
   ]
  },
  {
   "cell_type": "code",
   "execution_count": 151,
   "metadata": {},
   "outputs": [
    {
     "name": "stdout",
     "output_type": "stream",
     "text": [
      "('2017-08-23', 81.0)\n",
      "('2017-08-23', 82.0)\n",
      "('2017-08-23', 82.0)\n",
      "('2017-08-23', 76.0)\n"
     ]
    }
   ],
   "source": [
    "# cur.execute(\"SELECT date, tobs from measurement where date >= ((select max(date) from measurement), '-365 day')\")\n",
    "# Jing offered sqlalchemy has a solution for subtracting from the date\n",
    "#???  how do I subtract 365 days from the max(date)??\n",
    "cur.execute(\"SELECT date, tobs from measurement where date >= (select max(date) from measurement as maxDate)\")\n",
    "rows = cur.fetchall()\n",
    " \n",
    "for row in rows:\n",
    "    print(row)"
   ]
  },
  {
   "cell_type": "code",
   "execution_count": 152,
   "metadata": {},
   "outputs": [
    {
     "name": "stdout",
     "output_type": "stream",
     "text": [
      "2017-08-23 00:00:00\n"
     ]
    }
   ],
   "source": [
    "print(maxDate)"
   ]
  },
  {
   "cell_type": "code",
   "execution_count": null,
   "metadata": {},
   "outputs": [],
   "source": [
    "# B3.  Design a query to retrieve the last 12 months of temperature observation data (tobs).\n",
    "#NOTE:    last date in measurement is 2017-08-23\n",
    "#use this if the data were current:\n",
    "# cur.execute(\"SELECT * from measurement where date >= date( julianday(date('now'))-365);\")\n",
    "\n",
    "\n",
    "cur.execute(\"SELECT date, tobs from measurement where Date(date) >= Date('\" + str(prevYear_s) + \"')\") \n",
    "#cur.execute(\"SELECT min(tobs), max(tobs), avg(tobs) from measurement where date >= '2016-08-24'\")\n",
    "rows = cur.fetchall()\n",
    " \n",
    "for row in rows:\n",
    "    print(row)"
   ]
  },
  {
   "cell_type": "code",
   "execution_count": 208,
   "metadata": {},
   "outputs": [
    {
     "data": {
      "text/html": [
       "<div>\n",
       "<style scoped>\n",
       "    .dataframe tbody tr th:only-of-type {\n",
       "        vertical-align: middle;\n",
       "    }\n",
       "\n",
       "    .dataframe tbody tr th {\n",
       "        vertical-align: top;\n",
       "    }\n",
       "\n",
       "    .dataframe thead th {\n",
       "        text-align: right;\n",
       "    }\n",
       "</style>\n",
       "<table border=\"1\" class=\"dataframe\">\n",
       "  <thead>\n",
       "    <tr style=\"text-align: right;\">\n",
       "      <th></th>\n",
       "      <th>id</th>\n",
       "      <th>station</th>\n",
       "      <th>date</th>\n",
       "      <th>tobs</th>\n",
       "    </tr>\n",
       "  </thead>\n",
       "  <tbody>\n",
       "    <tr>\n",
       "      <th>0</th>\n",
       "      <td>2364</td>\n",
       "      <td>USC00519397</td>\n",
       "      <td>2016-08-23</td>\n",
       "      <td>81.0</td>\n",
       "    </tr>\n",
       "    <tr>\n",
       "      <th>1</th>\n",
       "      <td>2365</td>\n",
       "      <td>USC00519397</td>\n",
       "      <td>2016-08-24</td>\n",
       "      <td>79.0</td>\n",
       "    </tr>\n",
       "    <tr>\n",
       "      <th>2</th>\n",
       "      <td>2366</td>\n",
       "      <td>USC00519397</td>\n",
       "      <td>2016-08-25</td>\n",
       "      <td>80.0</td>\n",
       "    </tr>\n",
       "    <tr>\n",
       "      <th>3</th>\n",
       "      <td>2367</td>\n",
       "      <td>USC00519397</td>\n",
       "      <td>2016-08-26</td>\n",
       "      <td>79.0</td>\n",
       "    </tr>\n",
       "    <tr>\n",
       "      <th>4</th>\n",
       "      <td>2368</td>\n",
       "      <td>USC00519397</td>\n",
       "      <td>2016-08-27</td>\n",
       "      <td>77.0</td>\n",
       "    </tr>\n",
       "    <tr>\n",
       "      <th>5</th>\n",
       "      <td>2369</td>\n",
       "      <td>USC00519397</td>\n",
       "      <td>2016-08-28</td>\n",
       "      <td>78.0</td>\n",
       "    </tr>\n",
       "    <tr>\n",
       "      <th>6</th>\n",
       "      <td>2370</td>\n",
       "      <td>USC00519397</td>\n",
       "      <td>2016-08-29</td>\n",
       "      <td>78.0</td>\n",
       "    </tr>\n",
       "    <tr>\n",
       "      <th>7</th>\n",
       "      <td>2371</td>\n",
       "      <td>USC00519397</td>\n",
       "      <td>2016-08-30</td>\n",
       "      <td>79.0</td>\n",
       "    </tr>\n",
       "    <tr>\n",
       "      <th>8</th>\n",
       "      <td>2372</td>\n",
       "      <td>USC00519397</td>\n",
       "      <td>2016-08-31</td>\n",
       "      <td>80.0</td>\n",
       "    </tr>\n",
       "    <tr>\n",
       "      <th>9</th>\n",
       "      <td>2373</td>\n",
       "      <td>USC00519397</td>\n",
       "      <td>2016-09-01</td>\n",
       "      <td>81.0</td>\n",
       "    </tr>\n",
       "  </tbody>\n",
       "</table>\n",
       "</div>"
      ],
      "text/plain": [
       "     id      station        date  tobs\n",
       "0  2364  USC00519397  2016-08-23  81.0\n",
       "1  2365  USC00519397  2016-08-24  79.0\n",
       "2  2366  USC00519397  2016-08-25  80.0\n",
       "3  2367  USC00519397  2016-08-26  79.0\n",
       "4  2368  USC00519397  2016-08-27  77.0\n",
       "5  2369  USC00519397  2016-08-28  78.0\n",
       "6  2370  USC00519397  2016-08-29  78.0\n",
       "7  2371  USC00519397  2016-08-30  79.0\n",
       "8  2372  USC00519397  2016-08-31  80.0\n",
       "9  2373  USC00519397  2016-09-01  81.0"
      ]
     },
     "execution_count": 208,
     "metadata": {},
     "output_type": "execute_result"
    }
   ],
   "source": [
    "#add to a dataframe for ease of work\n",
    "tempObs = pd.read_sql(\"SELECT id, station, date, tobs from measurement where date >= Date('\" + str(prevYear_s) + \"')\", conn)\n",
    "tempObs.head(10)\n"
   ]
  },
  {
   "cell_type": "code",
   "execution_count": 155,
   "metadata": {},
   "outputs": [
    {
     "data": {
      "text/html": [
       "<div>\n",
       "<style scoped>\n",
       "    .dataframe tbody tr th:only-of-type {\n",
       "        vertical-align: middle;\n",
       "    }\n",
       "\n",
       "    .dataframe tbody tr th {\n",
       "        vertical-align: top;\n",
       "    }\n",
       "\n",
       "    .dataframe thead th {\n",
       "        text-align: right;\n",
       "    }\n",
       "</style>\n",
       "<table border=\"1\" class=\"dataframe\">\n",
       "  <thead>\n",
       "    <tr style=\"text-align: right;\">\n",
       "      <th></th>\n",
       "      <th>id</th>\n",
       "      <th>station</th>\n",
       "      <th>date</th>\n",
       "      <th>tobs</th>\n",
       "    </tr>\n",
       "  </thead>\n",
       "  <tbody>\n",
       "    <tr>\n",
       "      <th>1524</th>\n",
       "      <td>14609</td>\n",
       "      <td>USC00519281</td>\n",
       "      <td>2016-08-24</td>\n",
       "      <td>77.0</td>\n",
       "    </tr>\n",
       "    <tr>\n",
       "      <th>1525</th>\n",
       "      <td>14610</td>\n",
       "      <td>USC00519281</td>\n",
       "      <td>2016-08-25</td>\n",
       "      <td>80.0</td>\n",
       "    </tr>\n",
       "    <tr>\n",
       "      <th>1526</th>\n",
       "      <td>14611</td>\n",
       "      <td>USC00519281</td>\n",
       "      <td>2016-08-26</td>\n",
       "      <td>80.0</td>\n",
       "    </tr>\n",
       "    <tr>\n",
       "      <th>1527</th>\n",
       "      <td>14612</td>\n",
       "      <td>USC00519281</td>\n",
       "      <td>2016-08-27</td>\n",
       "      <td>75.0</td>\n",
       "    </tr>\n",
       "    <tr>\n",
       "      <th>1528</th>\n",
       "      <td>14613</td>\n",
       "      <td>USC00519281</td>\n",
       "      <td>2016-08-28</td>\n",
       "      <td>73.0</td>\n",
       "    </tr>\n",
       "  </tbody>\n",
       "</table>\n",
       "</div>"
      ],
      "text/plain": [
       "         id      station        date  tobs\n",
       "1524  14609  USC00519281  2016-08-24  77.0\n",
       "1525  14610  USC00519281  2016-08-25  80.0\n",
       "1526  14611  USC00519281  2016-08-26  80.0\n",
       "1527  14612  USC00519281  2016-08-27  75.0\n",
       "1528  14613  USC00519281  2016-08-28  73.0"
      ]
     },
     "execution_count": 155,
     "metadata": {},
     "output_type": "execute_result"
    }
   ],
   "source": [
    "#B3a.  Filter by the station with the highest number of observations.\n",
    "#Use pandas\n",
    "tempObs2 = tempObs[tempObs['station']==highObs]\n",
    "tempObs2.head()\n"
   ]
  },
  {
   "cell_type": "code",
   "execution_count": 209,
   "metadata": {},
   "outputs": [
    {
     "data": {
      "image/png": "[encoded data removed]",
      "text/plain": [
       "<Figure size 432x288 with 1 Axes>"
      ]
     },
     "metadata": {},
     "output_type": "display_data"
    }
   ],
   "source": [
    "#B3b.   Plot the results as a histogram with bins=12.\n",
    "#NOTE:  added an additional import: import matplotlib.mlab as mlab\n",
    "\n",
    "#create histogram\n",
    "x = tempObs2['tobs']\n",
    "num_bins = 12\n",
    "n, bins, patches = plt.hist(x, num_bins, facecolor='blue', alpha=0.5, label = 'TOB')\n",
    "\n",
    "#add labels\n",
    "plt.xlabel('Temperature (in F)')\n",
    "plt.ylabel('Frequency')\n",
    "plt.title('Frequency of Temperature Observation Data(TOB)')\n",
    "\n",
    "plt.legend(loc='upper right')\n",
    "plt.show()\n",
    "\n"
   ]
  },
  {
   "cell_type": "markdown",
   "metadata": {},
   "source": [
    "### End Step 1\n",
    "(there is no step 2)\n",
    "### Begin Step 3"
   ]
  },
  {
   "cell_type": "markdown",
   "metadata": {},
   "source": [
    "## Step 3 - Routes\n",
    "\n",
    "\n",
    "3A.  Home page.\n",
    "<BR>List all routes that are available.\n",
    "\n",
    "<BR>3B.  /api/v1.0/precipitation\n",
    "<BR>Convert the query results to a Dictionary using date as the key and prcp as the value.\n",
    "<BR>Return the JSON representation of your dictionary.\n",
    "\n",
    "\n",
    "\n",
    "\n",
    "<BR>3C.  /api/v1.0/stations\n",
    "<BR>Return a JSON list of stations from the dataset.\n",
    "\n",
    "<BR>3D.   /api/v1.0/tobs\n",
    "<BR>query for the dates and temperature observations from a year from the last data point.\n",
    "<BR>Return a JSON list of Temperature Observations (tobs) for the previous year.\n",
    "\n",
    "<BR>3E.   /api/v1.0/<start> and /api/v1.0/<start>/<end>\n",
    "<BR>Return a JSON list of the minimum temperature, the average temperature, and the max temperature for a given start or start-end range.\n",
    "<BR>3E1.  When given the start only, calculate TMIN, TAVG, and TMAX for all dates greater than and equal to the start date.\n",
    "<BR>3E2.  When given the start and the end date, calculate the TMIN, TAVG, and TMAX for dates between the start and end date inclusive."
   ]
  },
  {
   "cell_type": "code",
   "execution_count": 158,
   "metadata": {},
   "outputs": [],
   "source": [
    "#  3A. Home page. \n",
    "#  List all routes that are available.\n",
    "\n",
    "#@app.route(\"/\")\n",
    "#see appFinal.py"
   ]
  },
  {
   "cell_type": "code",
   "execution_count": 159,
   "metadata": {},
   "outputs": [],
   "source": [
    "# 3B. \n",
    "# Convert the query results to a Dictionary using date as the key and prcp as the value. \n",
    "# Return the JSON representation of your dictionary.\n",
    "\n",
    "#@app.route(\"/api/v1.0/precipitation\")\n",
    "#see appFinal.py"
   ]
  },
  {
   "cell_type": "code",
   "execution_count": 160,
   "metadata": {},
   "outputs": [
    {
     "name": "stdout",
     "output_type": "stream",
     "text": [
      "(1, 'USC00519397', 'WAIKIKI 717.2, HI US', 21.2716, -157.8168, 3.0)\n",
      "(2, 'USC00513117', 'KANEOHE 838.1, HI US', 21.4234, -157.8015, 14.6)\n",
      "(3, 'USC00514830', 'KUALOA RANCH HEADQUARTERS 886.9, HI US', 21.5213, -157.8374, 7.0)\n",
      "(4, 'USC00517948', 'PEARL CITY, HI US', 21.3934, -157.9751, 11.9)\n",
      "(5, 'USC00518838', 'UPPER WAHIAWA 874.3, HI US', 21.4992, -158.0111, 306.6)\n",
      "(6, 'USC00519523', 'WAIMANALO EXPERIMENTAL FARM, HI US', 21.33556, -157.71139, 19.5)\n",
      "(7, 'USC00519281', 'WAIHEE 837.5, HI US', 21.45167, -157.84888999999998, 32.9)\n",
      "(8, 'USC00511918', 'HONOLULU OBSERVATORY 702.2, HI US', 21.3152, -157.9992, 0.9)\n",
      "(9, 'USC00516128', 'MANOA LYON ARBO 785.2, HI US', 21.3331, -157.8025, 152.4)\n"
     ]
    }
   ],
   "source": [
    "# 3C. /api/v1.0/stations \n",
    "# Return a JSON list of stations from the dataset.\n",
    "\n",
    "#Practice - return all station data\n",
    "#@app.route(\"/api/v1.0/station_all\")\n",
    "cur.execute(\"SELECT * from station\")\n",
    "rows = cur.fetchall()\n",
    " \n",
    "for row in rows:\n",
    "    print(row)   "
   ]
  },
  {
   "cell_type": "code",
   "execution_count": 161,
   "metadata": {},
   "outputs": [
    {
     "name": "stdout",
     "output_type": "stream",
     "text": [
      "('USC00519397',)\n",
      "('USC00513117',)\n",
      "('USC00514830',)\n",
      "('USC00517948',)\n",
      "('USC00518838',)\n",
      "('USC00519523',)\n",
      "('USC00519281',)\n",
      "('USC00511918',)\n",
      "('USC00516128',)\n"
     ]
    }
   ],
   "source": [
    "#return only the station ID\n",
    "#@app.route(\"/api/v1.0/station_id\")\n",
    "\n",
    "cur.execute(\"SELECT station from station\")\n",
    "\n",
    "rows = cur.fetchall()\n",
    " \n",
    "for row in rows:\n",
    "    print(row)   "
   ]
  },
  {
   "cell_type": "code",
   "execution_count": 162,
   "metadata": {},
   "outputs": [
    {
     "name": "stdout",
     "output_type": "stream",
     "text": [
      "('WAIKIKI 717.2, HI US',)\n",
      "('KANEOHE 838.1, HI US',)\n",
      "('KUALOA RANCH HEADQUARTERS 886.9, HI US',)\n",
      "('PEARL CITY, HI US',)\n",
      "('UPPER WAHIAWA 874.3, HI US',)\n",
      "('WAIMANALO EXPERIMENTAL FARM, HI US',)\n",
      "('WAIHEE 837.5, HI US',)\n",
      "('HONOLULU OBSERVATORY 702.2, HI US',)\n",
      "('MANOA LYON ARBO 785.2, HI US',)\n"
     ]
    }
   ],
   "source": [
    "#return the station names\n",
    "#@app.route(\"/api/v1.0/station_name\")\n",
    "\n",
    "cur.execute(\"SELECT name from station\")\n",
    "\n",
    "rows = cur.fetchall()\n",
    " \n",
    "for row in rows:\n",
    "    print(row)   "
   ]
  },
  {
   "cell_type": "code",
   "execution_count": 163,
   "metadata": {},
   "outputs": [
    {
     "name": "stdout",
     "output_type": "stream",
     "text": [
      "maxDate= 2017-08-23 and prevYear_s= 2016-08-23 00:00:00\n"
     ]
    }
   ],
   "source": [
    "print(\"maxDate= \"+ maxDate_s + \" and prevYear_s= \" + prevYear_s)"
   ]
  },
  {
   "cell_type": "code",
   "execution_count": 164,
   "metadata": {},
   "outputs": [
    {
     "data": {
      "text/plain": [
       "str"
      ]
     },
     "execution_count": 164,
     "metadata": {},
     "output_type": "execute_result"
    }
   ],
   "source": [
    "type(maxDate_s)"
   ]
  },
  {
   "cell_type": "code",
   "execution_count": null,
   "metadata": {},
   "outputs": [],
   "source": [
    "# 3D. /api/v1.0/tobs \n",
    "# query for the dates and temperature observations from a year from the last data point. \n",
    "# Return a JSON list of Temperature Observations (tobs) for the previous year.\n",
    "\n",
    "\n",
    "#@app.route(\"/api/v1.0/tobs\")\n",
    "\n",
    "cur.execute(\"SELECT tobs from measurement where Date(date) >= Date('\" +str(prevYear_s) +\"') order by date desc\") \n",
    "\n",
    "rows = cur.fetchall()\n",
    " \n",
    "for row in rows:\n",
    "    print(row)  "
   ]
  },
  {
   "cell_type": "code",
   "execution_count": 166,
   "metadata": {},
   "outputs": [
    {
     "data": {
      "text/plain": [
       "<sqlite3.Cursor at 0x27cedf3cf80>"
      ]
     },
     "execution_count": 166,
     "metadata": {},
     "output_type": "execute_result"
    }
   ],
   "source": [
    "cur.execute(\"SELECT min(tobs), max(tobs), avg(tobs) from measurement where Date(date) >= Date('\" + str(startS) + \"') and Date(date) <= Date('\" + str(endS) + \"')\")\n"
   ]
  },
  {
   "cell_type": "code",
   "execution_count": null,
   "metadata": {},
   "outputs": [],
   "source": []
  },
  {
   "cell_type": "code",
   "execution_count": 167,
   "metadata": {},
   "outputs": [
    {
     "name": "stdout",
     "output_type": "stream",
     "text": [
      "(1, 'USC00519397', 'WAIKIKI 717.2, HI US', 21.2716, -157.8168, 3.0)\n",
      "(2, 'USC00513117', 'KANEOHE 838.1, HI US', 21.4234, -157.8015, 14.6)\n",
      "(3, 'USC00514830', 'KUALOA RANCH HEADQUARTERS 886.9, HI US', 21.5213, -157.8374, 7.0)\n",
      "(4, 'USC00517948', 'PEARL CITY, HI US', 21.3934, -157.9751, 11.9)\n",
      "(5, 'USC00518838', 'UPPER WAHIAWA 874.3, HI US', 21.4992, -158.0111, 306.6)\n",
      "(6, 'USC00519523', 'WAIMANALO EXPERIMENTAL FARM, HI US', 21.33556, -157.71139, 19.5)\n",
      "(7, 'USC00519281', 'WAIHEE 837.5, HI US', 21.45167, -157.84888999999998, 32.9)\n",
      "(8, 'USC00511918', 'HONOLULU OBSERVATORY 702.2, HI US', 21.3152, -157.9992, 0.9)\n",
      "(9, 'USC00516128', 'MANOA LYON ARBO 785.2, HI US', 21.3331, -157.8025, 152.4)\n"
     ]
    }
   ],
   "source": [
    "#@app.route(\"/api/v1.0/station_all\")\n",
    "\n",
    "cur.execute(\"SELECT * from station\")\n",
    "\n",
    "rows = cur.fetchall()\n",
    " \n",
    "for row in rows:\n",
    "    print(row)"
   ]
  },
  {
   "cell_type": "code",
   "execution_count": 168,
   "metadata": {},
   "outputs": [
    {
     "name": "stdout",
     "output_type": "stream",
     "text": [
      "('USC00519397',)\n",
      "('USC00513117',)\n",
      "('USC00514830',)\n",
      "('USC00517948',)\n",
      "('USC00518838',)\n",
      "('USC00519523',)\n",
      "('USC00519281',)\n",
      "('USC00511918',)\n",
      "('USC00516128',)\n"
     ]
    }
   ],
   "source": [
    "#@app.route(\"/api/v1.0/station_id\")\n",
    "\n",
    "cur.execute(\"SELECT station from station\")\n",
    "\n",
    "rows = cur.fetchall()\n",
    " \n",
    "for row in rows:\n",
    "    print(row)"
   ]
  },
  {
   "cell_type": "code",
   "execution_count": 169,
   "metadata": {},
   "outputs": [
    {
     "name": "stdout",
     "output_type": "stream",
     "text": [
      "('WAIKIKI 717.2, HI US',)\n",
      "('KANEOHE 838.1, HI US',)\n",
      "('KUALOA RANCH HEADQUARTERS 886.9, HI US',)\n",
      "('PEARL CITY, HI US',)\n",
      "('UPPER WAHIAWA 874.3, HI US',)\n",
      "('WAIMANALO EXPERIMENTAL FARM, HI US',)\n",
      "('WAIHEE 837.5, HI US',)\n",
      "('HONOLULU OBSERVATORY 702.2, HI US',)\n",
      "('MANOA LYON ARBO 785.2, HI US',)\n"
     ]
    }
   ],
   "source": [
    "#@app.route(\"/api/v1.0/station_name\")\n",
    "\n",
    "cur.execute(\"SELECT name from station\")\n",
    "\n",
    "rows = cur.fetchall()\n",
    " \n",
    "for row in rows:\n",
    "    print(row)"
   ]
  },
  {
   "cell_type": "code",
   "execution_count": 189,
   "metadata": {},
   "outputs": [
    {
     "name": "stdout",
     "output_type": "stream",
     "text": [
      "maxDate= 2017-08-23 00:00:00 and prevYear_s= 2016-08-23 00:00:00\n"
     ]
    }
   ],
   "source": [
    "print(\"maxDate= \"+ maxDate_s + \" and prevYear_s= \" + prevYear_s)"
   ]
  },
  {
   "cell_type": "code",
   "execution_count": null,
   "metadata": {},
   "outputs": [],
   "source": [
    "#@app.route(\"/api/v1.0/tobs\")\n",
    "\n",
    "cur.execute(\"SELECT tobs from measurement where Date(date) >= Date('2016-08-23') order by date desc\")\n",
    "#cur.execute(\"SELECT tobs from measurement where Date(date) >= Date('\" + str(prevYear_s) + \"') order by date desc\")\n",
    "\n",
    "rows = cur.fetchall()\n",
    " \n",
    "for row in rows:\n",
    "    print(row)\n",
    "    \n",
    "# first four values: (81.0,)(82.0,)(82.0,)(76.0,)\n",
    "# last four values(80.0,)(80.0,)(80.0,)(77.0,)(74.0,)"
   ]
  },
  {
   "cell_type": "code",
   "execution_count": 172,
   "metadata": {},
   "outputs": [
    {
     "name": "stdout",
     "output_type": "stream",
     "text": [
      "(71.0, 85.0, 79.61111111111111)\n"
     ]
    }
   ],
   "source": [
    "#3E1. When given the start only, calculate TMIN, TAVG, and TMAX for all dates greater than and equal to the start date. \n",
    "#Route =  @app.route(\"/api/v1.0/date/<input_column>\")\n",
    "\n",
    "cur.execute(\"SELECT min(tobs), max(tobs), avg(tobs) from measurement where Date(date) >= Date('2017-08-19')\")\n",
    "#cur.execute(\"SELECT min(tobs), max(tobs), avg(tobs) from measurement where Date(date) >= Date('\" + str(startS) + \"')\")\n",
    "\n",
    "rows = cur.fetchall()\n",
    " \n",
    "for row in rows:\n",
    "    print(row)\n",
    "    \n",
    "# (71.0, 85.0, 79.61111111111111)"
   ]
  },
  {
   "cell_type": "code",
   "execution_count": 173,
   "metadata": {},
   "outputs": [
    {
     "name": "stdout",
     "output_type": "stream",
     "text": [
      "(71.0, 85.0, 79.42857142857143)\n"
     ]
    }
   ],
   "source": [
    "#3E2. When given the start and the end date, calculate the TMIN, TAVG, and TMAX for dates between the start and end date inclusive.\n",
    "#@app.route(\"/api/v1.0/<startS>/<endS>\")\n",
    "\n",
    "\n",
    "cur.execute(\"SELECT min(tobs), max(tobs), avg(tobs) from measurement where Date(date) >= '2017-08-19' and date <='2017-08-22'\")\n",
    "#cur.execute(\"SELECT min(tobs), max(tobs), avg(tobs) from measurement where Date(date) >= Date('\" + str(startS) + \"') and Date(date) <= Date('\" + str(endS) + \"')\")\n",
    "\n",
    "rows = cur.fetchall()\n",
    " \n",
    "for row in rows:\n",
    "    print(row)\n",
    "    \n",
    "#returns (71.0, 85.0, 79.42857142857143)\n"
   ]
  },
  {
   "cell_type": "code",
   "execution_count": 210,
   "metadata": {},
   "outputs": [],
   "source": [
    "def calc_temps(start_date, end_date):\n",
    "    return start_date - end_date"
   ]
  },
  {
   "cell_type": "code",
   "execution_count": 174,
   "metadata": {},
   "outputs": [
    {
     "ename": "NameError",
     "evalue": "name 'session' is not defined",
     "output_type": "error",
     "traceback": [
      "\u001b[1;31m---------------------------------------------------------------------------\u001b[0m",
      "\u001b[1;31mNameError\u001b[0m                                 Traceback (most recent call last)",
      "\u001b[1;32m<ipython-input-174-790a4fe371b5>\u001b[0m in \u001b[0;36m<module>\u001b[1;34m\u001b[0m\n\u001b[0;32m     16\u001b[0m \u001b[1;33m\u001b[0m\u001b[0m\n\u001b[0;32m     17\u001b[0m \u001b[1;31m# function usage example\u001b[0m\u001b[1;33m\u001b[0m\u001b[1;33m\u001b[0m\u001b[1;33m\u001b[0m\u001b[0m\n\u001b[1;32m---> 18\u001b[1;33m \u001b[0mprint\u001b[0m\u001b[1;33m(\u001b[0m\u001b[0mcalc_temps\u001b[0m\u001b[1;33m(\u001b[0m\u001b[1;34m'2012-02-28'\u001b[0m\u001b[1;33m,\u001b[0m \u001b[1;34m'2012-03-05'\u001b[0m\u001b[1;33m)\u001b[0m\u001b[1;33m)\u001b[0m\u001b[1;33m\u001b[0m\u001b[1;33m\u001b[0m\u001b[0m\n\u001b[0m",
      "\u001b[1;32m<ipython-input-174-790a4fe371b5>\u001b[0m in \u001b[0;36mcalc_temps\u001b[1;34m(start_date, end_date)\u001b[0m\n\u001b[0;32m     12\u001b[0m     \"\"\"\n\u001b[0;32m     13\u001b[0m \u001b[1;33m\u001b[0m\u001b[0m\n\u001b[1;32m---> 14\u001b[1;33m     \u001b[1;32mreturn\u001b[0m \u001b[0msession\u001b[0m\u001b[1;33m.\u001b[0m\u001b[0mquery\u001b[0m\u001b[1;33m(\u001b[0m\u001b[0mfunc\u001b[0m\u001b[1;33m.\u001b[0m\u001b[0mmin\u001b[0m\u001b[1;33m(\u001b[0m\u001b[0mMeasurement\u001b[0m\u001b[1;33m.\u001b[0m\u001b[0mtobs\u001b[0m\u001b[1;33m)\u001b[0m\u001b[1;33m,\u001b[0m \u001b[0mfunc\u001b[0m\u001b[1;33m.\u001b[0m\u001b[0mavg\u001b[0m\u001b[1;33m(\u001b[0m\u001b[0mMeasurement\u001b[0m\u001b[1;33m.\u001b[0m\u001b[0mtobs\u001b[0m\u001b[1;33m)\u001b[0m\u001b[1;33m,\u001b[0m \u001b[0mfunc\u001b[0m\u001b[1;33m.\u001b[0m\u001b[0mmax\u001b[0m\u001b[1;33m(\u001b[0m\u001b[0mMeasurement\u001b[0m\u001b[1;33m.\u001b[0m\u001b[0mtobs\u001b[0m\u001b[1;33m)\u001b[0m\u001b[1;33m)\u001b[0m\u001b[1;33m.\u001b[0m\u001b[0;31m\\\u001b[0m\u001b[1;33m\u001b[0m\u001b[1;33m\u001b[0m\u001b[0m\n\u001b[0m\u001b[0;32m     15\u001b[0m         \u001b[0mfilter\u001b[0m\u001b[1;33m(\u001b[0m\u001b[0mMeasurement\u001b[0m\u001b[1;33m.\u001b[0m\u001b[0mdate\u001b[0m \u001b[1;33m>=\u001b[0m \u001b[0mstart_date\u001b[0m\u001b[1;33m)\u001b[0m\u001b[1;33m.\u001b[0m\u001b[0mfilter\u001b[0m\u001b[1;33m(\u001b[0m\u001b[0mMeasurement\u001b[0m\u001b[1;33m.\u001b[0m\u001b[0mdate\u001b[0m \u001b[1;33m<=\u001b[0m \u001b[0mend_date\u001b[0m\u001b[1;33m)\u001b[0m\u001b[1;33m.\u001b[0m\u001b[0mall\u001b[0m\u001b[1;33m(\u001b[0m\u001b[1;33m)\u001b[0m\u001b[1;33m\u001b[0m\u001b[1;33m\u001b[0m\u001b[0m\n\u001b[0;32m     16\u001b[0m \u001b[1;33m\u001b[0m\u001b[0m\n",
      "\u001b[1;31mNameError\u001b[0m: name 'session' is not defined"
     ]
    }
   ],
   "source": [
    "# This function called `calc_temps` will accept start date and end date in the format '%Y-%m-%d' \n",
    "# and return the minimum, average, and maximum temperatures for that range of dates\n",
    "def calc_temps(start_date, end_date):\n",
    "    \"\"\"TMIN, TAVG, and TMAX for a list of dates.\n",
    "    \n",
    "    Args:\n",
    "        start_date (string): A date string in the format %Y-%m-%d\n",
    "        end_date (string): A date string in the format %Y-%m-%d\n",
    "        \n",
    "    Returns:\n",
    "        TMIN, TAVE, and TMAX\n",
    "    \"\"\"\n",
    "    \n",
    "    return session.query(func.min(Measurement.tobs), func.avg(Measurement.tobs), func.max(Measurement.tobs)).\\\n",
    "        filter(Measurement.date >= start_date).filter(Measurement.date <= end_date).all()\n",
    "\n",
    "# function usage example\n",
    "print(calc_temps('2012-02-28', '2012-03-05'))"
   ]
  },
  {
   "cell_type": "code",
   "execution_count": null,
   "metadata": {},
   "outputs": [],
   "source": [
    "# Use your previous function `calc_temps` to calculate the tmin, tavg, and tmax \n",
    "# for your trip using the previous year's data for those same dates.\n"
   ]
  },
  {
   "cell_type": "code",
   "execution_count": null,
   "metadata": {},
   "outputs": [],
   "source": [
    "# Plot the results from your previous query as a bar chart. \n",
    "# Use \"Trip Avg Temp\" as your Title\n",
    "# Use the average temperature for the y value\n",
    "# Use the peak-to-peak (tmax-tmin) value as the y error bar (yerr)\n"
   ]
  },
  {
   "cell_type": "code",
   "execution_count": null,
   "metadata": {},
   "outputs": [],
   "source": [
    "# Calculate the total amount of rainfall per weather station for your trip dates using the previous year's matching dates.\n",
    "# Sort this in descending order by precipitation amount and list the station, name, latitude, longitude, and elevation\n",
    "\n"
   ]
  },
  {
   "cell_type": "markdown",
   "metadata": {},
   "source": [
    "## Optional Challenge Assignment"
   ]
  },
  {
   "cell_type": "code",
   "execution_count": null,
   "metadata": {},
   "outputs": [],
   "source": [
    "# Create a query that will calculate the daily normals \n",
    "# (i.e. the averages for tmin, tmax, and tavg for all historic data matching a specific month and day)\n",
    "\n",
    "def daily_normals(date):\n",
    "    \"\"\"Daily Normals.\n",
    "    \n",
    "    Args:\n",
    "        date (str): A date string in the format '%m-%d'\n",
    "        \n",
    "    Returns:\n",
    "        A list of tuples containing the daily normals, tmin, tavg, and tmax\n",
    "    \n",
    "    \"\"\"\n",
    "    \n",
    "    sel = [func.min(Measurement.tobs), func.avg(Measurement.tobs), func.max(Measurement.tobs)]\n",
    "    return session.query(*sel).filter(func.strftime(\"%m-%d\", Measurement.date) == date).all()\n",
    "    \n",
    "daily_normals(\"01-01\")"
   ]
  },
  {
   "cell_type": "code",
   "execution_count": null,
   "metadata": {},
   "outputs": [],
   "source": [
    "# calculate the daily normals for your trip\n",
    "# push each tuple of calculations into a list called `normals`\n",
    "\n",
    "# Set the start and end date of the trip\n",
    "\n",
    "# Use the start and end date to create a range of dates\n",
    "\n",
    "# Stip off the year and save a list of %m-%d strings\n",
    "\n",
    "# Loop through the list of %m-%d strings and calculate the normals for each date\n"
   ]
  },
  {
   "cell_type": "code",
   "execution_count": null,
   "metadata": {},
   "outputs": [],
   "source": [
    "# Load the previous query results into a Pandas DataFrame and add the `trip_dates` range as the `date` index\n"
   ]
  },
  {
   "cell_type": "code",
   "execution_count": null,
   "metadata": {},
   "outputs": [],
   "source": [
    "# Plot the daily normals as an area plot with `stacked=False`\n"
   ]
  }
 ],
 "metadata": {
  "kernel_info": {
   "name": "python3"
  },
  "kernelspec": {
   "display_name": "Python 3",
   "language": "python",
   "name": "python3"
  },
  "language_info": {
   "codemirror_mode": {
    "name": "ipython",
    "version": 3
   },
   "file_extension": ".py",
   "mimetype": "text/x-python",
   "name": "python",
   "nbconvert_exporter": "python",
   "pygments_lexer": "ipython3",
   "version": "3.7.1"
  },
  "nteract": {
   "version": "0.12.3"
  },
  "varInspector": {
   "cols": {
    "lenName": 16,
    "lenType": 16,
    "lenVar": 40
   },
   "kernels_config": {
    "python": {
     "delete_cmd_postfix": "",
     "delete_cmd_prefix": "del ",
     "library": "var_list.py",
     "varRefreshCmd": "print(var_dic_list())"
    },
    "r": {
     "delete_cmd_postfix": ") ",
     "delete_cmd_prefix": "rm(",
     "library": "var_list.r",
     "varRefreshCmd": "cat(var_dic_list()) "
    }
   },
   "types_to_exclude": [
    "module",
    "function",
    "builtin_function_or_method",
    "instance",
    "_Feature"
   ],
   "window_display": false
  }
 },
 "nbformat": 4,
 "nbformat_minor": 2
}
