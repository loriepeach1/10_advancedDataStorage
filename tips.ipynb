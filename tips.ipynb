{
 "cells": [
  {
   "cell_type": "code",
   "execution_count": 3,
   "metadata": {},
   "outputs": [],
   "source": [
    "import numpy as np\n",
    "import pandas as pd"
   ]
  },
  {
   "cell_type": "markdown",
   "metadata": {},
   "source": [
    "### convert dictionary to dataframe to dictionary\n",
    "\n",
    "https://stackoverflow.com/questions/26716616/convert-a-pandas-dataframe-to-a-dictionary"
   ]
  },
  {
   "cell_type": "code",
   "execution_count": 1,
   "metadata": {},
   "outputs": [],
   "source": [
    "#convert dictionary to a dataframe\n",
    "\n",
    "justice_league_members = [\n",
    "    {\"superhero\": \"Aquaman\", \"real_name\": \"Arthur Curry\"},\n",
    "    {\"superhero\": \"Batman\", \"real_name\": \"Bruce Wayne\"},\n",
    "    {\"superhero\": \"Cyborg\", \"real_name\": \"Victor Stone\"},\n",
    "    {\"superhero\": \"Flash\", \"real_name\": \"Barry Allen\"},\n",
    "    {\"superhero\": \"Green Lantern\", \"real_name\": \"Hal Jordan\"},\n",
    "    {\"superhero\": \"Superman\", \"real_name\": \"Clark Kent/Kal-El\"},\n",
    "    {\"superhero\": \"Wonder Woman\", \"real_name\": \"Princess Diana\"}\n",
    "]"
   ]
  },
  {
   "cell_type": "code",
   "execution_count": 13,
   "metadata": {},
   "outputs": [
    {
     "data": {
      "text/html": [
       "<div>\n",
       "<style scoped>\n",
       "    .dataframe tbody tr th:only-of-type {\n",
       "        vertical-align: middle;\n",
       "    }\n",
       "\n",
       "    .dataframe tbody tr th {\n",
       "        vertical-align: top;\n",
       "    }\n",
       "\n",
       "    .dataframe thead th {\n",
       "        text-align: right;\n",
       "    }\n",
       "</style>\n",
       "<table border=\"1\" class=\"dataframe\">\n",
       "  <thead>\n",
       "    <tr style=\"text-align: right;\">\n",
       "      <th></th>\n",
       "      <th>real_name</th>\n",
       "      <th>superhero</th>\n",
       "    </tr>\n",
       "  </thead>\n",
       "  <tbody>\n",
       "    <tr>\n",
       "      <th>0</th>\n",
       "      <td>Arthur Curry</td>\n",
       "      <td>Aquaman</td>\n",
       "    </tr>\n",
       "    <tr>\n",
       "      <th>1</th>\n",
       "      <td>Bruce Wayne</td>\n",
       "      <td>Batman</td>\n",
       "    </tr>\n",
       "    <tr>\n",
       "      <th>2</th>\n",
       "      <td>Victor Stone</td>\n",
       "      <td>Cyborg</td>\n",
       "    </tr>\n",
       "    <tr>\n",
       "      <th>3</th>\n",
       "      <td>Barry Allen</td>\n",
       "      <td>Flash</td>\n",
       "    </tr>\n",
       "    <tr>\n",
       "      <th>4</th>\n",
       "      <td>Hal Jordan</td>\n",
       "      <td>Green Lantern</td>\n",
       "    </tr>\n",
       "  </tbody>\n",
       "</table>\n",
       "</div>"
      ],
      "text/plain": [
       "      real_name      superhero\n",
       "0  Arthur Curry        Aquaman\n",
       "1   Bruce Wayne         Batman\n",
       "2  Victor Stone         Cyborg\n",
       "3   Barry Allen          Flash\n",
       "4    Hal Jordan  Green Lantern"
      ]
     },
     "execution_count": 13,
     "metadata": {},
     "output_type": "execute_result"
    }
   ],
   "source": [
    "justice_df = pd.DataFrame(justice_league_members)\n",
    "justice_df.head()"
   ]
  },
  {
   "cell_type": "code",
   "execution_count": 16,
   "metadata": {},
   "outputs": [
    {
     "data": {
      "text/plain": [
       "{'real_name': {0: 'Arthur Curry',\n",
       "  1: 'Bruce Wayne',\n",
       "  2: 'Victor Stone',\n",
       "  3: 'Barry Allen',\n",
       "  4: 'Hal Jordan',\n",
       "  5: 'Clark Kent/Kal-El',\n",
       "  6: 'Princess Diana'},\n",
       " 'superhero': {0: 'Aquaman',\n",
       "  1: 'Batman',\n",
       "  2: 'Cyborg',\n",
       "  3: 'Flash',\n",
       "  4: 'Green Lantern',\n",
       "  5: 'Superman',\n",
       "  6: 'Wonder Woman'}}"
      ]
     },
     "execution_count": 16,
     "metadata": {},
     "output_type": "execute_result"
    }
   ],
   "source": [
    "#convert dataframe to a dictionary\n",
    "justice_df.to_dict('dict')"
   ]
  },
  {
   "cell_type": "code",
   "execution_count": 15,
   "metadata": {},
   "outputs": [
    {
     "data": {
      "text/plain": [
       "{'real_name': ['Arthur Curry',\n",
       "  'Bruce Wayne',\n",
       "  'Victor Stone',\n",
       "  'Barry Allen',\n",
       "  'Hal Jordan',\n",
       "  'Clark Kent/Kal-El',\n",
       "  'Princess Diana'],\n",
       " 'superhero': ['Aquaman',\n",
       "  'Batman',\n",
       "  'Cyborg',\n",
       "  'Flash',\n",
       "  'Green Lantern',\n",
       "  'Superman',\n",
       "  'Wonder Woman']}"
      ]
     },
     "execution_count": 15,
     "metadata": {},
     "output_type": "execute_result"
    }
   ],
   "source": [
    "justice_df.to_dict('list')"
   ]
  },
  {
   "cell_type": "code",
   "execution_count": 21,
   "metadata": {},
   "outputs": [
    {
     "name": "stdout",
     "output_type": "stream",
     "text": [
      "[{'real_name': 'Arthur Curry', 'superhero': 'Aquaman'}, {'real_name': 'Bruce Wayne', 'superhero': 'Batman'}, {'real_name': 'Victor Stone', 'superhero': 'Cyborg'}, {'real_name': 'Barry Allen', 'superhero': 'Flash'}, {'real_name': 'Hal Jordan', 'superhero': 'Green Lantern'}, {'real_name': 'Clark Kent/Kal-El', 'superhero': 'Superman'}, {'real_name': 'Princess Diana', 'superhero': 'Wonder Woman'}]\n"
     ]
    }
   ],
   "source": [
    "justice2 = justice_df.to_dict('records')\n",
    "print(justice2)"
   ]
  },
  {
   "cell_type": "code",
   "execution_count": 20,
   "metadata": {},
   "outputs": [
    {
     "name": "stdout",
     "output_type": "stream",
     "text": [
      "[{'real_name': 'Arthur Curry', 'superhero': 'Aquaman'}, {'real_name': 'Bruce Wayne', 'superhero': 'Batman'}, {'real_name': 'Victor Stone', 'superhero': 'Cyborg'}, {'real_name': 'Barry Allen', 'superhero': 'Flash'}, {'real_name': 'Hal Jordan', 'superhero': 'Green Lantern'}, {'real_name': 'Clark Kent/Kal-El', 'superhero': 'Superman'}, {'real_name': 'Princess Diana', 'superhero': 'Wonder Woman'}]\n"
     ]
    }
   ],
   "source": []
  },
  {
   "cell_type": "code",
   "execution_count": null,
   "metadata": {},
   "outputs": [],
   "source": []
  }
 ],
 "metadata": {
  "kernelspec": {
   "display_name": "Python 3",
   "language": "python",
   "name": "python3"
  },
  "language_info": {
   "codemirror_mode": {
    "name": "ipython",
    "version": 3
   },
   "file_extension": ".py",
   "mimetype": "text/x-python",
   "name": "python",
   "nbconvert_exporter": "python",
   "pygments_lexer": "ipython3",
   "version": "3.7.1"
  }
 },
 "nbformat": 4,
 "nbformat_minor": 2
}
